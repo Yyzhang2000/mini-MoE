{
  "nbformat": 4,
  "nbformat_minor": 0,
  "metadata": {
    "colab": {
      "provenance": [],
      "authorship_tag": "ABX9TyOtQ/Lo8NmLpLvdxmTHEtPe",
      "include_colab_link": true
    },
    "kernelspec": {
      "name": "python3",
      "display_name": "Python 3"
    },
    "language_info": {
      "name": "python"
    }
  },
  "cells": [
    {
      "cell_type": "markdown",
      "metadata": {
        "id": "view-in-github",
        "colab_type": "text"
      },
      "source": [
        "<a href=\"https://colab.research.google.com/github/Yyzhang2000/mini-MoE/blob/main/ng/01_glow_cifar10.ipynb\" target=\"_parent\"><img src=\"https://colab.research.google.com/assets/colab-badge.svg\" alt=\"Open In Colab\"/></a>"
      ]
    },
    {
      "cell_type": "code",
      "execution_count": 5,
      "metadata": {
        "id": "Qp8vS-W3NPbS"
      },
      "outputs": [],
      "source": [
        "import torch\n",
        "import torch.nn as nn\n",
        "import torch.nn.functional as F\n",
        "import torchvision\n",
        "\n",
        "from matplotlib import pyplot as plt\n",
        "from tqdm import tqdm"
      ]
    },
    {
      "cell_type": "code",
      "source": [
        "device = torch.device('cuda' if torch.cuda.is_available() else 'cpu')\n",
        "print(device)\n",
        "batch_size = 128\n",
        "data_dir = \"./data\""
      ],
      "metadata": {
        "colab": {
          "base_uri": "https://localhost:8080/"
        },
        "id": "3FncaGAqNWeU",
        "outputId": "aa6b618e-fce6-4163-a70a-924776f5f596"
      },
      "execution_count": 3,
      "outputs": [
        {
          "output_type": "stream",
          "name": "stdout",
          "text": [
            "cpu\n"
          ]
        }
      ]
    },
    {
      "cell_type": "code",
      "source": [
        "class Jitter:\n",
        "    def __init__(self, scale = 1.0 / 256):\n",
        "        self.scale = scale\n",
        "\n",
        "    def __call__(self, x):\n",
        "        eps = torch.rand_like(x) * self.scale\n",
        "        x_ = x + eps\n",
        "        return x_\n",
        "class Scale:\n",
        "    def __init__(self, scale = 255.0 / 256.0):\n",
        "        self.scale = scale\n",
        "\n",
        "    def __call__(self, x):\n",
        "        return x * self.scale"
      ],
      "metadata": {
        "id": "VfeEqJZ6OCGm"
      },
      "execution_count": 7,
      "outputs": []
    },
    {
      "cell_type": "code",
      "source": [
        "transform = torchvision.transforms.Compose([\n",
        "    torchvision.transforms.ToTensor(),\n",
        "    Scale(255. / 256.),\n",
        "    Jitter(1 / 256.)\n",
        "    ])\n",
        "train_data = torchvision.datasets.CIFAR10(data_dir, train=True,\n",
        "                                 download=True, transform=transform)\n",
        "train_loader = torch.utils.data.DataLoader(train_data, batch_size=batch_size, shuffle=True,\n",
        "                                           drop_last=True)"
      ],
      "metadata": {
        "colab": {
          "base_uri": "https://localhost:8080/"
        },
        "id": "uJcFNFMZNlsG",
        "outputId": "944e0dbd-36ab-4c7f-d222-392e2cebaa37"
      },
      "execution_count": 8,
      "outputs": [
        {
          "output_type": "stream",
          "name": "stderr",
          "text": [
            "100%|██████████| 170M/170M [00:03<00:00, 43.4MB/s]\n"
          ]
        }
      ]
    },
    {
      "cell_type": "code",
      "source": [
        "class Flow(nn.Module):\n",
        "    def __init__(self):\n",
        "        super().__init__()\n",
        "\n",
        "    def forward(self, z):\n",
        "        raise NotImplementedError(\"Forward pass has not been implemented.\")\n",
        "\n",
        "    def inverse(self, z):\n",
        "        raise NotImplementedError(\"This flow has no algebraic inverse.\")\n",
        "\n",
        "class GlowBlock(nn.Module):\n",
        "    def __init__(\n",
        "            self,\n",
        "            channels,\n",
        "            hidden_channels,\n",
        "            scale = True,\n",
        "            scale_map = 'sigmoid',\n",
        "            split_mode = 'channel',\n",
        "            leaky = 0.0,\n",
        "            init_zeros = True,\n",
        "            use_lu = True,\n",
        "            net_actnorm = False\n",
        "    ):\n",
        "        super().__init__()\n",
        "        self.flows = nn.ModuleList([])\n",
        "        # Coupling layer\n",
        "        kernel_size = (3, 1, 3)\n",
        "        num_param = 2 if scale else 1\n",
        "        if \"channel\" == split_mode:\n",
        "            channels_ = ((channels + 1) // 2,) + 2 * (hidden_channels,)\n",
        "            channels_ += (num_param * (channels // 2),)\n",
        "        elif \"channel_inv\" == split_mode:\n",
        "            channels_ = (channels // 2,) + 2 * (hidden_channels,)\n",
        "            channels_ += (num_param * ((channels + 1) // 2),)\n",
        "        elif \"checkerboard\" in split_mode:\n",
        "            channels_ = (channels,) + 2 * (hidden_channels,)\n",
        "            channels_ += (num_param * channels,)\n",
        "        else:\n",
        "            raise NotImplementedError(\"Mode \" + split_mode + \" is not implemented.\")\n",
        "        param_map = nets.ConvNet2d(\n",
        "            channels_, kernel_size, leaky, init_zeros, actnorm=net_actnorm\n",
        "        )\n",
        "        self.flows += [AffineCouplingBlock(param_map, scale, scale_map, split_mode)]\n",
        "        # Invertible 1x1 convolution\n",
        "        if channels > 1:\n",
        "            self.flows += [Invertible1x1Conv(channels, use_lu)]\n",
        "        # Activation normalization\n",
        "        self.flows += [ActNorm((channels,) + (1, 1))]\n",
        "\n",
        "    def forward(self, z):\n",
        "        log_det_tot = torch.zeros(z.shape[0], dtype=z.dtype, device=z.device)\n",
        "        for flow in self.flows:\n",
        "            z, log_det = flow(z)\n",
        "            log_det_tot += log_det\n",
        "        return z, log_det_tot\n",
        "\n",
        "    def inverse(self, z):\n",
        "        log_det_tot = torch.zeros(z.shape[0], dtype=z.dtype, device=z.device)\n",
        "        for i in range(len(self.flows) - 1, -1, -1):\n",
        "            z, log_det = self.flows[i].inverse(z)\n",
        "            log_det_tot += log_det\n",
        "        return z, log_det_tot"
      ],
      "metadata": {
        "id": "iy0XYQf0NpdJ"
      },
      "execution_count": 9,
      "outputs": []
    },
    {
      "cell_type": "code",
      "source": [],
      "metadata": {
        "id": "iSHd0eq2P7ET"
      },
      "execution_count": null,
      "outputs": []
    }
  ]
}